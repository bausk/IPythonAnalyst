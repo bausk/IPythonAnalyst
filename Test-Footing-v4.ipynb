{
 "cells": [
  {
   "cell_type": "code",
   "execution_count": 11,
   "metadata": {
    "collapsed": false
   },
   "outputs": [],
   "source": [
    "from pint import UnitRegistry\n",
    "from pint import unit\n",
    "from math import sqrt\n",
    "un = UnitRegistry()\n",
    "un.define('tonne_force = 1000 * kgf = tf')"
   ]
  },
  {
   "cell_type": "markdown",
   "metadata": {},
   "source": [
    "# Peliminary Footing Check"
   ]
  },
  {
   "cell_type": "markdown",
   "metadata": {},
   "source": [
    "Loads and soil strength:"
   ]
  },
  {
   "cell_type": "code",
   "execution_count": 15,
   "metadata": {
    "collapsed": false
   },
   "outputs": [
    {
     "data": {
      "text/html": [
       "4.17708684663 kip/foot<sup>2</sup>"
      ],
      "text/latex": [
       "$4.17708684663 \\frac{kip}{foot^{2}}$"
      ],
      "text/plain": [
       "<Quantity(4.17708684663, 'kip / foot ** 2')>"
      ]
     },
     "execution_count": 15,
     "metadata": {},
     "output_type": "execute_result"
    }
   ],
   "source": [
    "lV = 88.5 * un.kip\n",
    "lH = 20.7 * un.kip\n",
    "lR = 200 * un.kPa.to(un.kip/un.foot**2); lR #PRELIMINARY"
   ]
  },
  {
   "cell_type": "code",
   "execution_count": 3,
   "metadata": {
    "collapsed": false
   },
   "outputs": [
    {
     "data": {
      "text/html": [
       "36.2873896 tonne_force"
      ],
      "text/latex": [
       "$36.2873896 tonne_force$"
      ],
      "text/plain": [
       "<Quantity(36.2873896, 'tonne_force')>"
      ]
     },
     "execution_count": 3,
     "metadata": {},
     "output_type": "execute_result"
    }
   ],
   "source": [
    "lV.to(un.tf)"
   ]
  },
  {
   "cell_type": "code",
   "execution_count": 4,
   "metadata": {
    "collapsed": false
   },
   "outputs": [
    {
     "data": {
      "text/html": [
       "6.80388555 tonne_force"
      ],
      "text/latex": [
       "$6.80388555 tonne_force$"
      ],
      "text/plain": [
       "<Quantity(6.80388555, 'tonne_force')>"
      ]
     },
     "execution_count": 4,
     "metadata": {},
     "output_type": "execute_result"
    }
   ],
   "source": [
    "lH.to(un.tf)"
   ]
  },
  {
   "cell_type": "markdown",
   "metadata": {},
   "source": [
    "Environment parameters:"
   ]
  },
  {
   "cell_type": "code",
   "execution_count": 13,
   "metadata": {
    "collapsed": false
   },
   "outputs": [
    {
     "data": {
      "text/html": [
       "3.75 foot"
      ],
      "text/latex": [
       "$3.75 foot$"
      ],
      "text/plain": [
       "<Quantity(3.75, 'foot')>"
      ]
     },
     "execution_count": 13,
     "metadata": {},
     "output_type": "execute_result"
    }
   ],
   "source": [
    "envFL = (45 * un.inch).to(un.feet); envFL #Frost line"
   ]
  },
  {
   "cell_type": "markdown",
   "metadata": {},
   "source": [
    "Footing parameters:"
   ]
  },
  {
   "cell_type": "code",
   "execution_count": 23,
   "metadata": {
    "collapsed": false
   },
   "outputs": [],
   "source": [
    "fL = 11 * un.feet #Length\n",
    "fB = 9 * un.feet #Width\n",
    "fArea = fL * fB #Area\n",
    "fPH = 3.8 * un.feet #Column pier height from base to footing bottom"
   ]
  },
  {
   "cell_type": "markdown",
   "metadata": {},
   "source": [
    "Approximate pressure at footing:"
   ]
  },
  {
   "cell_type": "code",
   "execution_count": 24,
   "metadata": {
    "collapsed": false
   },
   "outputs": [
    {
     "data": {
      "text/html": [
       "1.32732782369 kip/foot<sup>2</sup>"
      ],
      "text/latex": [
       "$1.32732782369 \\frac{kip}{foot^{2}}$"
      ],
      "text/plain": [
       "<Quantity(1.32732782369, 'kip / foot ** 2')>"
      ]
     },
     "execution_count": 24,
     "metadata": {},
     "output_type": "execute_result"
    }
   ],
   "source": [
    "W = fL ** 2 * fB / 6 #section modulus\n",
    "PrMax = lV / fArea + (lH * fPH) / W; PrMax.to(un.kip/un.foot**2)"
   ]
  },
  {
   "cell_type": "code",
   "execution_count": 8,
   "metadata": {
    "collapsed": false
   },
   "outputs": [
    {
     "data": {
      "text/html": [
       "0.757396449704 kip/foot<sup>2</sup>"
      ],
      "text/latex": [
       "$0.757396449704 \\frac{kip}{foot^{2}}$"
      ],
      "text/plain": [
       "<Quantity(0.757396449704, 'kip / foot ** 2')>"
      ]
     },
     "execution_count": 8,
     "metadata": {},
     "output_type": "execute_result"
    }
   ],
   "source": [
    "PrMin = lV / fArea - (lH * fPH) / W; PrMin.to(un.kip/un.foot**2)"
   ]
  },
  {
   "cell_type": "markdown",
   "metadata": {},
   "source": [
    "Allowable pressure at footing:"
   ]
  },
  {
   "cell_type": "code",
   "execution_count": 25,
   "metadata": {
    "collapsed": false
   },
   "outputs": [
    {
     "data": {
      "text/html": [
       "1.39236228221 kip/foot<sup>2</sup>"
      ],
      "text/latex": [
       "$1.39236228221 \\frac{kip}{foot^{2}}$"
      ],
      "text/plain": [
       "<Quantity(1.39236228221, 'kip / foot ** 2')>"
      ]
     },
     "execution_count": 25,
     "metadata": {},
     "output_type": "execute_result"
    }
   ],
   "source": [
    "lR/3"
   ]
  }
 ],
 "metadata": {
  "kernelspec": {
   "display_name": "Python 2",
   "language": "python",
   "name": "python2"
  },
  "language_info": {
   "codemirror_mode": {
    "name": "ipython",
    "version": 2
   },
   "file_extension": ".py",
   "mimetype": "text/x-python",
   "name": "python",
   "nbconvert_exporter": "python",
   "pygments_lexer": "ipython2",
   "version": "2.7.5"
  }
 },
 "nbformat": 4,
 "nbformat_minor": 0
}
