{
 "cells": [
  {
   "cell_type": "code",
   "execution_count": 29,
   "metadata": {
    "collapsed": false
   },
   "outputs": [],
   "source": [
    "from pint import UnitRegistry\n",
    "from pint import unit\n",
    "from math import sqrt\n",
    "un = UnitRegistry()\n",
    "un.define('tonne_force = 1000 * kgf = tf')"
   ]
  },
  {
   "cell_type": "markdown",
   "metadata": {},
   "source": [
    "# Peliminary Footing Check"
   ]
  },
  {
   "cell_type": "markdown",
   "metadata": {},
   "source": [
    "Loads and soil strength:"
   ]
  },
  {
   "cell_type": "code",
   "execution_count": 30,
   "metadata": {
    "collapsed": false
   },
   "outputs": [],
   "source": [
    "lV = 80 * un.kip\n",
    "lH = 15 * un.kip\n",
    "lR = 200 * un.kPa.to(un.kip/un.foot**2) #PRELIMINARY"
   ]
  },
  {
   "cell_type": "code",
   "execution_count": 32,
   "metadata": {
    "collapsed": false
   },
   "outputs": [
    {
     "data": {
      "text/html": [
       "36.2873896 tonne_force"
      ],
      "text/latex": [
       "$36.2873896 tonne_force$"
      ],
      "text/plain": [
       "<Quantity(36.2873896, 'tonne_force')>"
      ]
     },
     "execution_count": 32,
     "metadata": {},
     "output_type": "execute_result"
    }
   ],
   "source": [
    "lV.to(un.tf)"
   ]
  },
  {
   "cell_type": "code",
   "execution_count": 33,
   "metadata": {
    "collapsed": false
   },
   "outputs": [
    {
     "data": {
      "text/html": [
       "6.80388555 tonne_force"
      ],
      "text/latex": [
       "$6.80388555 tonne_force$"
      ],
      "text/plain": [
       "<Quantity(6.80388555, 'tonne_force')>"
      ]
     },
     "execution_count": 33,
     "metadata": {},
     "output_type": "execute_result"
    }
   ],
   "source": [
    "lH.to(un.tf)"
   ]
  },
  {
   "cell_type": "markdown",
   "metadata": {},
   "source": [
    "Environment parameters:"
   ]
  },
  {
   "cell_type": "code",
   "execution_count": 3,
   "metadata": {
    "collapsed": false
   },
   "outputs": [],
   "source": [
    "envFL = 45 * un.inch #Frost line"
   ]
  },
  {
   "cell_type": "markdown",
   "metadata": {},
   "source": [
    "Footing parameters:"
   ]
  },
  {
   "cell_type": "code",
   "execution_count": 8,
   "metadata": {
    "collapsed": false
   },
   "outputs": [
    {
     "data": {
      "text/html": [
       "48.0 inch"
      ],
      "text/latex": [
       "$48.0 inch$"
      ],
      "text/plain": [
       "<Quantity(48.0, 'inch')>"
      ]
     },
     "execution_count": 8,
     "metadata": {},
     "output_type": "execute_result"
    }
   ],
   "source": [
    "fL = 6.5 * un.feet #Length\n",
    "fB = 5 * un.feet #Width\n",
    "fArea = fL * fB #Area\n",
    "fPH = 4 * un.feet; fPH.to(un.inch) #Column pier height from base to footing bottom"
   ]
  },
  {
   "cell_type": "markdown",
   "metadata": {},
   "source": [
    "Approximate pressure at footing:"
   ]
  },
  {
   "cell_type": "code",
   "execution_count": 9,
   "metadata": {
    "collapsed": false
   },
   "outputs": [
    {
     "data": {
      "text/html": [
       "4.16568047337 kip/foot<sup>2</sup>"
      ],
      "text/latex": [
       "$4.16568047337 \\frac{kip}{foot^{2}}$"
      ],
      "text/plain": [
       "<Quantity(4.16568047337, 'kip / foot ** 2')>"
      ]
     },
     "execution_count": 9,
     "metadata": {},
     "output_type": "execute_result"
    }
   ],
   "source": [
    "W = fL ** 2 * fB / 6 #section modulus\n",
    "PrMax = lV / fArea + (lH * fPH) / W; PrMax.to(un.kip/un.foot**2)"
   ]
  },
  {
   "cell_type": "code",
   "execution_count": 6,
   "metadata": {
    "collapsed": false
   },
   "outputs": [
    {
     "data": {
      "text/html": [
       "0.666666666667 kip/foot<sup>2</sup>"
      ],
      "text/latex": [
       "$0.666666666667 \\frac{kip}{foot^{2}}$"
      ],
      "text/plain": [
       "<Quantity(0.666666666667, 'kip / foot ** 2')>"
      ]
     },
     "execution_count": 6,
     "metadata": {},
     "output_type": "execute_result"
    }
   ],
   "source": [
    "PrMin = lV / fArea - (lH * fPH) / W; PrMin.to(un.kip/un.foot**2)"
   ]
  },
  {
   "cell_type": "code",
   "execution_count": 7,
   "metadata": {
    "collapsed": false
   },
   "outputs": [
    {
     "data": {
      "text/html": [
       "355.857729221 kilonewton"
      ],
      "text/latex": [
       "$355.857729221 kilonewton$"
      ],
      "text/plain": [
       "<Quantity(355.857729221, 'kilonewton')>"
      ]
     },
     "execution_count": 7,
     "metadata": {},
     "output_type": "execute_result"
    }
   ],
   "source": [
    "lV.to(un.kN)"
   ]
  }
 ],
 "metadata": {
  "kernelspec": {
   "display_name": "Python 2",
   "language": "python",
   "name": "python2"
  },
  "language_info": {
   "codemirror_mode": {
    "name": "ipython",
    "version": 2
   },
   "file_extension": ".py",
   "mimetype": "text/x-python",
   "name": "python",
   "nbconvert_exporter": "python",
   "pygments_lexer": "ipython2",
   "version": "2.7.5"
  }
 },
 "nbformat": 4,
 "nbformat_minor": 0
}
