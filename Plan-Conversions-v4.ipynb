{
 "cells": [
  {
   "cell_type": "code",
   "execution_count": 1,
   "metadata": {
    "collapsed": false
   },
   "outputs": [],
   "source": [
    "from __future__ import division\n",
    "from pint import UnitRegistry\n",
    "from pint import unit\n",
    "from math import sqrt, tan, pi\n",
    "un = UnitRegistry()\n",
    "un.define('tonne_force = 1000 * kgf = tf')\n",
    "un.define('pound_sqfeet = psi * inch ** 2 / feet ** 2 = psf')\n",
    "un.define('kpound_sqfeet = 1000 * psf = ksf')"
   ]
  },
  {
   "cell_type": "markdown",
   "metadata": {},
   "source": [
    "# Peliminary Footing Check"
   ]
  },
  {
   "cell_type": "markdown",
   "metadata": {},
   "source": [
    "Loads and soil strength:"
   ]
  },
  {
   "cell_type": "code",
   "execution_count": 2,
   "metadata": {
    "collapsed": false
   },
   "outputs": [
    {
     "data": {
      "text/plain": [
       "2.0396067291614743"
      ]
     },
     "execution_count": 2,
     "metadata": {},
     "output_type": "execute_result"
    }
   ],
   "source": [
    "tan(55/180*pi) ** 2"
   ]
  },
  {
   "cell_type": "code",
   "execution_count": 24,
   "metadata": {
    "collapsed": false
   },
   "outputs": [
    {
     "data": {
      "text/html": [
       "7415.212500000001 millimeter"
      ],
      "text/latex": [
       "$7415.212500000001 millimeter$"
      ],
      "text/plain": [
       "<Quantity(7415.212500000001, 'millimeter')>"
      ]
     },
     "execution_count": 24,
     "metadata": {},
     "output_type": "execute_result"
    }
   ],
   "source": [
    "(24 * un.feet + 3*un.inch + 15/16*un.inch).to(un.mm)"
   ]
  },
  {
   "cell_type": "code",
   "execution_count": 27,
   "metadata": {
    "collapsed": false
   },
   "outputs": [
    {
     "data": {
      "text/html": [
       "0.10442717116575065 kpound_sqfeet"
      ],
      "text/latex": [
       "$0.10442717116575065 kpound_sqfeet$"
      ],
      "text/plain": [
       "<Quantity(0.10442717116575065, 'kpound_sqfeet')>"
      ]
     },
     "execution_count": 27,
     "metadata": {},
     "output_type": "execute_result"
    }
   ],
   "source": [
    "(5 * un.kPa).to(un.ksf)"
   ]
  },
  {
   "cell_type": "code",
   "execution_count": 13,
   "metadata": {
    "collapsed": false
   },
   "outputs": [
    {
     "data": {
      "text/html": [
       "488.95 millimeter"
      ],
      "text/latex": [
       "$488.95 millimeter$"
      ],
      "text/plain": [
       "<Quantity(488.95, 'millimeter')>"
      ]
     },
     "execution_count": 13,
     "metadata": {},
     "output_type": "execute_result"
    }
   ],
   "source": [
    "(1 * un.feet + 7*un.inch + 1/4*un.inch).to(un.mm)"
   ]
  },
  {
   "cell_type": "code",
   "execution_count": 14,
   "metadata": {
    "collapsed": false
   },
   "outputs": [
    {
     "data": {
      "text/html": [
       "2133.6 millimeter"
      ],
      "text/latex": [
       "$2133.6 millimeter$"
      ],
      "text/plain": [
       "<Quantity(2133.6, 'millimeter')>"
      ]
     },
     "execution_count": 14,
     "metadata": {},
     "output_type": "execute_result"
    }
   ],
   "source": [
    "(7 * un.feet + 0*un.inch + 0*un.inch).to(un.mm)"
   ]
  },
  {
   "cell_type": "code",
   "execution_count": 15,
   "metadata": {
    "collapsed": false
   },
   "outputs": [
    {
     "data": {
      "text/html": [
       "95.76051796067168 kilopascal"
      ],
      "text/latex": [
       "$95.76051796067168 kilopascal$"
      ],
      "text/plain": [
       "<Quantity(95.76051796067168, 'kilopascal')>"
      ]
     },
     "execution_count": 15,
     "metadata": {},
     "output_type": "execute_result"
    }
   ],
   "source": [
    "(2 * un.kip / un.foot**2).to(un.kPa)"
   ]
  },
  {
   "cell_type": "code",
   "execution_count": 16,
   "metadata": {
    "collapsed": false
   },
   "outputs": [
    {
     "data": {
      "text/html": [
       "9.186351706036742 foot"
      ],
      "text/latex": [
       "$9.186351706036742 foot$"
      ],
      "text/plain": [
       "<Quantity(9.186351706036742, 'foot')>"
      ]
     },
     "execution_count": 16,
     "metadata": {},
     "output_type": "execute_result"
    }
   ],
   "source": [
    "(2.8 * un.m).to(un.feet)"
   ]
  },
  {
   "cell_type": "code",
   "execution_count": 17,
   "metadata": {
    "collapsed": false
   },
   "outputs": [
    {
     "data": {
      "text/html": [
       "0.0032808398950131224 foot"
      ],
      "text/latex": [
       "$0.0032808398950131224 foot$"
      ],
      "text/plain": [
       "<Quantity(0.0032808398950131224, 'foot')>"
      ]
     },
     "execution_count": 17,
     "metadata": {},
     "output_type": "execute_result"
    }
   ],
   "source": [
    "(1 * un.mm).to(un.feet)"
   ]
  },
  {
   "cell_type": "code",
   "execution_count": 18,
   "metadata": {
    "collapsed": false
   },
   "outputs": [
    {
     "data": {
      "text/plain": [
       "25.356413793103446"
      ]
     },
     "execution_count": 18,
     "metadata": {},
     "output_type": "execute_result"
    }
   ],
   "source": [
    "612.78 / (24 + 2/12)"
   ]
  },
  {
   "cell_type": "code",
   "execution_count": 19,
   "metadata": {
    "collapsed": false
   },
   "outputs": [
    {
     "data": {
      "text/plain": [
       "0.03937007874015748"
      ]
     },
     "execution_count": 19,
     "metadata": {},
     "output_type": "execute_result"
    }
   ],
   "source": [
    "1/25.4"
   ]
  },
  {
   "cell_type": "markdown",
   "metadata": {},
   "source": [
    "Environment parameters:"
   ]
  },
  {
   "cell_type": "code",
   "execution_count": 20,
   "metadata": {
    "collapsed": false
   },
   "outputs": [],
   "source": [
    "envFL = 45 * un.inch #Frost line"
   ]
  },
  {
   "cell_type": "markdown",
   "metadata": {},
   "source": [
    "Footing parameters:"
   ]
  },
  {
   "cell_type": "code",
   "execution_count": 21,
   "metadata": {
    "collapsed": false
   },
   "outputs": [
    {
     "data": {
      "text/html": [
       "48.0 inch"
      ],
      "text/latex": [
       "$48.0 inch$"
      ],
      "text/plain": [
       "<Quantity(48.0, 'inch')>"
      ]
     },
     "execution_count": 21,
     "metadata": {},
     "output_type": "execute_result"
    }
   ],
   "source": [
    "fL = 6.5 * un.feet #Length\n",
    "fB = 5 * un.feet #Width\n",
    "fArea = fL * fB #Area\n",
    "fPH = 4 * un.feet; fPH.to(un.inch) #Column pier height from base to footing bottom"
   ]
  },
  {
   "cell_type": "markdown",
   "metadata": {},
   "source": [
    "Approximate pressure at footing:"
   ]
  }
 ],
 "metadata": {
  "kernelspec": {
   "display_name": "Python 3",
   "language": "python",
   "name": "python3"
  },
  "language_info": {
   "codemirror_mode": {
    "name": "ipython",
    "version": 3
   },
   "file_extension": ".py",
   "mimetype": "text/x-python",
   "name": "python",
   "nbconvert_exporter": "python",
   "pygments_lexer": "ipython3",
   "version": "3.4.3"
  }
 },
 "nbformat": 4,
 "nbformat_minor": 0
}
