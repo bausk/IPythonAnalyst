{
 "metadata": {
  "name": "Test-Footing",
  "signature": "sha256:8afaff2e90337ec6bd63beb52d726de5e107ce30cd4ae2ea8dc179dae63d00ae"
 },
 "nbformat": 3,
 "nbformat_minor": 0,
 "worksheets": [
  {
   "cells": [
    {
     "cell_type": "code",
     "collapsed": false,
     "input": [
      "from pint import UnitRegistry\n",
      "from pint import unit\n",
      "from math import sqrt\n",
      "un = UnitRegistry()\n",
      "un.define('tonne_force = 1000 * kgf = tf')"
     ],
     "language": "python",
     "metadata": {},
     "outputs": [],
     "prompt_number": 29
    },
    {
     "cell_type": "heading",
     "level": 1,
     "metadata": {},
     "source": [
      "Peliminary Footing Check"
     ]
    },
    {
     "cell_type": "markdown",
     "metadata": {},
     "source": [
      "Loads and soil strength:"
     ]
    },
    {
     "cell_type": "code",
     "collapsed": false,
     "input": [
      "lV = 80 * un.kip\n",
      "lH = 15 * un.kip\n",
      "lR = 200 * un.kPa.to(un.kip/un.foot**2) #PRELIMINARY"
     ],
     "language": "python",
     "metadata": {},
     "outputs": [],
     "prompt_number": 30
    },
    {
     "cell_type": "code",
     "collapsed": false,
     "input": [
      "lV.to(un.tf)"
     ],
     "language": "python",
     "metadata": {},
     "outputs": [
      {
       "html": [
        "36.2873896 tonne_force"
       ],
       "latex": [
        "$36.2873896 tonne_force$"
       ],
       "output_type": "pyout",
       "prompt_number": 32,
       "text": [
        "<Quantity(36.2873896, 'tonne_force')>"
       ]
      }
     ],
     "prompt_number": 32
    },
    {
     "cell_type": "code",
     "collapsed": false,
     "input": [
      "lH.to(un.tf)"
     ],
     "language": "python",
     "metadata": {},
     "outputs": [
      {
       "html": [
        "6.80388555 tonne_force"
       ],
       "latex": [
        "$6.80388555 tonne_force$"
       ],
       "output_type": "pyout",
       "prompt_number": 33,
       "text": [
        "<Quantity(6.80388555, 'tonne_force')>"
       ]
      }
     ],
     "prompt_number": 33
    },
    {
     "cell_type": "markdown",
     "metadata": {},
     "source": [
      "Environment parameters:"
     ]
    },
    {
     "cell_type": "code",
     "collapsed": false,
     "input": [
      "envFL = 45 * un.inch #Frost line"
     ],
     "language": "python",
     "metadata": {},
     "outputs": [],
     "prompt_number": 3
    },
    {
     "cell_type": "markdown",
     "metadata": {},
     "source": [
      "Footing parameters:"
     ]
    },
    {
     "cell_type": "code",
     "collapsed": false,
     "input": [
      "fL = 6.5 * un.feet #Length\n",
      "fB = 5 * un.feet #Width\n",
      "fArea = fL * fB #Area\n",
      "fPH = 4 * un.feet; fPH.to(un.inch) #Column pier height from base to footing bottom"
     ],
     "language": "python",
     "metadata": {},
     "outputs": [
      {
       "html": [
        "48.0 inch"
       ],
       "latex": [
        "$48.0 inch$"
       ],
       "output_type": "pyout",
       "prompt_number": 8,
       "text": [
        "<Quantity(48.0, 'inch')>"
       ]
      }
     ],
     "prompt_number": 8
    },
    {
     "cell_type": "markdown",
     "metadata": {},
     "source": [
      "Approximate pressure at footing:"
     ]
    },
    {
     "cell_type": "code",
     "collapsed": false,
     "input": [
      "W = fL ** 2 * fB / 6 #section modulus\n",
      "PrMax = lV / fArea + (lH * fPH) / W; PrMax.to(un.kip/un.foot**2)"
     ],
     "language": "python",
     "metadata": {},
     "outputs": [
      {
       "html": [
        "4.16568047337 kip/foot<sup>2</sup>"
       ],
       "latex": [
        "$4.16568047337 \\frac{kip}{foot^{2}}$"
       ],
       "output_type": "pyout",
       "prompt_number": 9,
       "text": [
        "<Quantity(4.16568047337, 'kip / foot ** 2')>"
       ]
      }
     ],
     "prompt_number": 9
    },
    {
     "cell_type": "code",
     "collapsed": false,
     "input": [
      "PrMin = lV / fArea - (lH * fPH) / W; PrMin.to(un.kip/un.foot**2)"
     ],
     "language": "python",
     "metadata": {},
     "outputs": [
      {
       "html": [
        "0.666666666667 kip/foot<sup>2</sup>"
       ],
       "latex": [
        "$0.666666666667 \\frac{kip}{foot^{2}}$"
       ],
       "output_type": "pyout",
       "prompt_number": 6,
       "text": [
        "<Quantity(0.666666666667, 'kip / foot ** 2')>"
       ]
      }
     ],
     "prompt_number": 6
    },
    {
     "cell_type": "code",
     "collapsed": false,
     "input": [
      "lV.to(un.kN)"
     ],
     "language": "python",
     "metadata": {},
     "outputs": [
      {
       "html": [
        "355.857729221 kilonewton"
       ],
       "latex": [
        "$355.857729221 kilonewton$"
       ],
       "output_type": "pyout",
       "prompt_number": 7,
       "text": [
        "<Quantity(355.857729221, 'kilonewton')>"
       ]
      }
     ],
     "prompt_number": 7
    }
   ],
   "metadata": {}
  }
 ]
}