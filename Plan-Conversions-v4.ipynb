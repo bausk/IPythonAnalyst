{
 "cells": [
  {
   "cell_type": "code",
   "execution_count": 38,
   "metadata": {
    "collapsed": false
   },
   "outputs": [],
   "source": [
    "from __future__ import division\n",
    "from pint import UnitRegistry\n",
    "from pint import unit\n",
    "from math import sqrt, tan\n",
    "un = UnitRegistry()\n",
    "un.define('tonne_force = 1000 * kgf = tf')"
   ]
  },
  {
   "cell_type": "markdown",
   "metadata": {},
   "source": [
    "# Peliminary Footing Check"
   ]
  },
  {
   "cell_type": "markdown",
   "metadata": {},
   "source": [
    "Loads and soil strength:"
   ]
  },
  {
   "cell_type": "code",
   "execution_count": 21,
   "metadata": {
    "collapsed": false
   },
   "outputs": [
    {
     "data": {
      "text/html": [
       "7059.6125 millimeter"
      ],
      "text/latex": [
       "$7059.6125 millimeter$"
      ],
      "text/plain": [
       "<Quantity(7059.6125, 'millimeter')>"
      ]
     },
     "execution_count": 21,
     "metadata": {},
     "output_type": "execute_result"
    }
   ],
   "source": [
    "(23 * un.feet + 1*un.inch + 15/16*un.inch).to(un.mm)"
   ]
  },
  {
   "cell_type": "code",
   "execution_count": 22,
   "metadata": {
    "collapsed": false
   },
   "outputs": [
    {
     "data": {
      "text/html": [
       "7415.2125 millimeter"
      ],
      "text/latex": [
       "$7415.2125 millimeter$"
      ],
      "text/plain": [
       "<Quantity(7415.2125, 'millimeter')>"
      ]
     },
     "execution_count": 22,
     "metadata": {},
     "output_type": "execute_result"
    }
   ],
   "source": [
    "(24 * un.feet + 3*un.inch + 15/16*un.inch).to(un.mm)"
   ]
  },
  {
   "cell_type": "code",
   "execution_count": 23,
   "metadata": {
    "collapsed": false
   },
   "outputs": [
    {
     "data": {
      "text/html": [
       "488.95 millimeter"
      ],
      "text/latex": [
       "$488.95 millimeter$"
      ],
      "text/plain": [
       "<Quantity(488.95, 'millimeter')>"
      ]
     },
     "execution_count": 23,
     "metadata": {},
     "output_type": "execute_result"
    }
   ],
   "source": [
    "(1 * un.feet + 7*un.inch + 1/4*un.inch).to(un.mm)"
   ]
  },
  {
   "cell_type": "code",
   "execution_count": 30,
   "metadata": {
    "collapsed": false
   },
   "outputs": [
    {
     "data": {
      "text/html": [
       "2133.6 millimeter"
      ],
      "text/latex": [
       "$2133.6 millimeter$"
      ],
      "text/plain": [
       "<Quantity(2133.6, 'millimeter')>"
      ]
     },
     "execution_count": 30,
     "metadata": {},
     "output_type": "execute_result"
    }
   ],
   "source": [
    "(7 * un.feet + 0*un.inch + 0*un.inch).to(un.mm)"
   ]
  },
  {
   "cell_type": "code",
   "execution_count": 47,
   "metadata": {
    "collapsed": false
   },
   "outputs": [
    {
     "data": {
      "text/html": [
       "95.7605179607 kilopascal"
      ],
      "text/latex": [
       "$95.7605179607 kilopascal$"
      ],
      "text/plain": [
       "<Quantity(95.7605179607, 'kilopascal')>"
      ]
     },
     "execution_count": 47,
     "metadata": {},
     "output_type": "execute_result"
    }
   ],
   "source": [
    "(2 * un.kip / un.foot**2).to(un.kPa)"
   ]
  },
  {
   "cell_type": "code",
   "execution_count": 31,
   "metadata": {
    "collapsed": false
   },
   "outputs": [
    {
     "data": {
      "text/html": [
       "9.18635170604 foot"
      ],
      "text/latex": [
       "$9.18635170604 foot$"
      ],
      "text/plain": [
       "<Quantity(9.18635170604, 'foot')>"
      ]
     },
     "execution_count": 31,
     "metadata": {},
     "output_type": "execute_result"
    }
   ],
   "source": [
    "(2.8 * un.m).to(un.feet)"
   ]
  },
  {
   "cell_type": "code",
   "execution_count": 48,
   "metadata": {
    "collapsed": false
   },
   "outputs": [
    {
     "data": {
      "text/html": [
       "0.00328083989501 foot"
      ],
      "text/latex": [
       "$0.00328083989501 foot$"
      ],
      "text/plain": [
       "<Quantity(0.00328083989501, 'foot')>"
      ]
     },
     "execution_count": 48,
     "metadata": {},
     "output_type": "execute_result"
    }
   ],
   "source": [
    "(1 * un.mm).to(un.feet)"
   ]
  },
  {
   "cell_type": "code",
   "execution_count": 4,
   "metadata": {
    "collapsed": false
   },
   "outputs": [
    {
     "data": {
      "text/html": [
       "6.80388555 tonne_force"
      ],
      "text/latex": [
       "$6.80388555 tonne_force$"
      ],
      "text/plain": [
       "<Quantity(6.80388555, 'tonne_force')>"
      ]
     },
     "execution_count": 4,
     "metadata": {},
     "output_type": "execute_result"
    }
   ],
   "source": [
    "lH.to(un.tf)"
   ]
  },
  {
   "cell_type": "markdown",
   "metadata": {},
   "source": [
    "Environment parameters:"
   ]
  },
  {
   "cell_type": "code",
   "execution_count": 5,
   "metadata": {
    "collapsed": false
   },
   "outputs": [],
   "source": [
    "envFL = 45 * un.inch #Frost line"
   ]
  },
  {
   "cell_type": "markdown",
   "metadata": {},
   "source": [
    "Footing parameters:"
   ]
  },
  {
   "cell_type": "code",
   "execution_count": 6,
   "metadata": {
    "collapsed": false
   },
   "outputs": [
    {
     "data": {
      "text/html": [
       "48.0 inch"
      ],
      "text/latex": [
       "$48.0 inch$"
      ],
      "text/plain": [
       "<Quantity(48.0, 'inch')>"
      ]
     },
     "execution_count": 6,
     "metadata": {},
     "output_type": "execute_result"
    }
   ],
   "source": [
    "fL = 6.5 * un.feet #Length\n",
    "fB = 5 * un.feet #Width\n",
    "fArea = fL * fB #Area\n",
    "fPH = 4 * un.feet; fPH.to(un.inch) #Column pier height from base to footing bottom"
   ]
  },
  {
   "cell_type": "markdown",
   "metadata": {},
   "source": [
    "Approximate pressure at footing:"
   ]
  },
  {
   "cell_type": "code",
   "execution_count": 7,
   "metadata": {
    "collapsed": false
   },
   "outputs": [
    {
     "data": {
      "text/html": [
       "4.16568047337 kip/foot<sup>2</sup>"
      ],
      "text/latex": [
       "$4.16568047337 \\frac{kip}{foot^{2}}$"
      ],
      "text/plain": [
       "<Quantity(4.16568047337, 'kip / foot ** 2')>"
      ]
     },
     "execution_count": 7,
     "metadata": {},
     "output_type": "execute_result"
    }
   ],
   "source": [
    "W = fL ** 2 * fB / 6 #section modulus\n",
    "PrMax = lV / fArea + (lH * fPH) / W; PrMax.to(un.kip/un.foot**2)"
   ]
  },
  {
   "cell_type": "code",
   "execution_count": 8,
   "metadata": {
    "collapsed": false
   },
   "outputs": [
    {
     "data": {
      "text/html": [
       "0.757396449704 kip/foot<sup>2</sup>"
      ],
      "text/latex": [
       "$0.757396449704 \\frac{kip}{foot^{2}}$"
      ],
      "text/plain": [
       "<Quantity(0.757396449704, 'kip / foot ** 2')>"
      ]
     },
     "execution_count": 8,
     "metadata": {},
     "output_type": "execute_result"
    }
   ],
   "source": [
    "PrMin = lV / fArea - (lH * fPH) / W; PrMin.to(un.kip/un.foot**2)"
   ]
  },
  {
   "cell_type": "code",
   "execution_count": 9,
   "metadata": {
    "collapsed": false
   },
   "outputs": [
    {
     "data": {
      "text/html": [
       "355.857729221 kilonewton"
      ],
      "text/latex": [
       "$355.857729221 kilonewton$"
      ],
      "text/plain": [
       "<Quantity(355.857729221, 'kilonewton')>"
      ]
     },
     "execution_count": 9,
     "metadata": {},
     "output_type": "execute_result"
    }
   ],
   "source": [
    "lV.to(un.kN)"
   ]
  }
 ],
 "metadata": {
  "kernelspec": {
   "display_name": "Python 2",
   "language": "python",
   "name": "python2"
  },
  "language_info": {
   "codemirror_mode": {
    "name": "ipython",
    "version": 2
   },
   "file_extension": ".py",
   "mimetype": "text/x-python",
   "name": "python",
   "nbconvert_exporter": "python",
   "pygments_lexer": "ipython2",
   "version": "2.7.5"
  }
 },
 "nbformat": 4,
 "nbformat_minor": 0
}
