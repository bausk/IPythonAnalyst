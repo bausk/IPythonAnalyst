{
 "worksheets": [
  {
   "cells": [
    {
     "cell_type": "code",
     "metadata": {},
     "outputs": [],
     "input": [
      "import pandas as pd\n",
      "import numpy as np\n",
      "import matplotlib.pyplot as plt\n",
      "s = pd.Series([1,3,5,np.nan,6,8])\n",
      "dates = pd.date_range('20130101',periods=6)\n",
      "df = pd.DataFrame(np.random.randn(6,4),index=dates,columns=list('ABCD'))\n",
      "df"
     ],
     "language": "python"
    },
    {
     "cell_type": "code",
     "metadata": {},
     "outputs": [],
     "input": [
      ""
     ],
     "language": "python"
    },
    {
     "cell_type": "markdown",
     "metadata": {},
     "source": [
      "Let's find the required moment of inertia under each of the forces."
     ]
    }
   ]
  }
 ],
 "cells": [],
 "metadata": {
  "name": "Test-Pandas",
  "signature": "sha256:f6dca3362969628b5f0fc498e9760119707ac03637c73e4aa7c28c2eb19406b7"
 },
 "nbformat": 3,
 "nbformat_minor": 0
}