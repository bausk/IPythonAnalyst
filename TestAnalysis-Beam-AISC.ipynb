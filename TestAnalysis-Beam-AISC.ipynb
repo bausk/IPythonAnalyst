{
 "metadata": {
  "name": "",
  "signature": "sha256:21017eb26b4afd96a259e600d95f3daf80585e2d7dcafbe366de01d4a0f019f3"
 },
 "nbformat": 3,
 "nbformat_minor": 0,
 "worksheets": [
  {
   "cells": [
    {
     "cell_type": "code",
     "collapsed": false,
     "input": [
      "from pint import UnitRegistry\n",
      "un = UnitRegistry()"
     ],
     "language": "python",
     "metadata": {},
     "outputs": [],
     "prompt_number": 6
    },
    {
     "cell_type": "heading",
     "level": 1,
     "metadata": {},
     "source": [
      "AISC Column Analysis"
     ]
    },
    {
     "cell_type": "markdown",
     "metadata": {},
     "source": [
      "First, let's define input loads"
     ]
    },
    {
     "cell_type": "code",
     "collapsed": false,
     "input": [
      "Pd = 3.9 * un.kips\n",
      "Pl = 8.7 * un.kips\n",
      "Wh = 0 * un.kips\n",
      "H = 7.75 * un.feet"
     ],
     "language": "python",
     "metadata": {},
     "outputs": [],
     "prompt_number": 10
    },
    {
     "cell_type": "markdown",
     "metadata": {},
     "source": [
      "Let's define material properties"
     ]
    },
    {
     "cell_type": "code",
     "collapsed": false,
     "input": [],
     "language": "python",
     "metadata": {},
     "outputs": [],
     "prompt_number": 2
    },
    {
     "cell_type": "code",
     "collapsed": false,
     "input": [],
     "language": "python",
     "metadata": {},
     "outputs": [],
     "prompt_number": 1
    },
    {
     "cell_type": "code",
     "collapsed": false,
     "input": [],
     "language": "python",
     "metadata": {},
     "outputs": [],
     "prompt_number": 1
    }
   ],
   "metadata": {}
  }
 ]
}