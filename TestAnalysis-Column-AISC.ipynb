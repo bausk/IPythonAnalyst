{
 "metadata": {
  "name": "",
  "signature": "sha256:8afaff2e90337ec6bd63beb52d726de5e107ce30cd4ae2ea8dc179dae63d00ae"
 },
 "nbformat": 3,
 "nbformat_minor": 0,
 "worksheets": [
  {
   "cells": [
    {
     "cell_type": "code",
     "collapsed": false,
     "input": [
      "from pint import UnitRegistry\n",
      "un = UnitRegistry()"
     ],
     "language": "python",
     "metadata": {},
     "outputs": [],
     "prompt_number": 151
    },
    {
     "cell_type": "heading",
     "level": 1,
     "metadata": {},
     "source": [
      "AISC Column Analysis"
     ]
    },
    {
     "cell_type": "markdown",
     "metadata": {},
     "source": [
      "First, let's define input loads and geometry:"
     ]
    },
    {
     "cell_type": "code",
     "collapsed": false,
     "input": [
      "Pd = 3.9 * un.kips\n",
      "Pl = 8.7 * un.kips\n",
      "Wh = 0 * un.kips\n",
      "H = 7.75 * un.feet.to(un.inch)"
     ],
     "language": "python",
     "metadata": {},
     "outputs": [],
     "prompt_number": 152
    },
    {
     "cell_type": "markdown",
     "metadata": {},
     "source": [
      "Let's define material properties:"
     ]
    },
    {
     "cell_type": "code",
     "collapsed": false,
     "input": [
      "Fy = 42 * un.ksi\n",
      "Fx = 58 * un.ksi\n",
      "E = 29000 * un.ksi"
     ],
     "language": "python",
     "metadata": {},
     "outputs": [],
     "prompt_number": 153
    },
    {
     "cell_type": "markdown",
     "metadata": {},
     "source": [
      "Section properties are as follows:"
     ]
    },
    {
     "cell_type": "code",
     "collapsed": false,
     "input": [
      "A = 1.82 * un.inch**2\n",
      "rx = 1.18 * un.inch\n",
      "Dt = 20.1 * un.dimensionless"
     ],
     "language": "python",
     "metadata": {},
     "outputs": [],
     "prompt_number": 154
    },
    {
     "cell_type": "markdown",
     "metadata": {},
     "source": [
      "Code parameters are as follows:"
     ]
    },
    {
     "cell_type": "code",
     "collapsed": false,
     "input": [
      "Oc = 1.67\n",
      "BracingX = 0\n",
      "BracingY = 0"
     ],
     "language": "python",
     "metadata": {},
     "outputs": [],
     "prompt_number": 162
    },
    {
     "cell_type": "markdown",
     "metadata": {},
     "source": [
      "Required compressive strength:"
     ]
    },
    {
     "cell_type": "code",
     "collapsed": false,
     "input": [
      "Pa = Pd + Pl + Wh"
     ],
     "language": "python",
     "metadata": {},
     "outputs": [],
     "prompt_number": 163
    },
    {
     "cell_type": "markdown",
     "metadata": {},
     "source": [
      "Critical length:"
     ]
    },
    {
     "cell_type": "code",
     "collapsed": false,
     "input": [
      "KL = max([H/(1.0+BracingX), H/(1.0+BracingY)])\n",
      "#KL = KL.to(un.inch)"
     ],
     "language": "python",
     "metadata": {},
     "outputs": [],
     "prompt_number": 164
    },
    {
     "cell_type": "code",
     "collapsed": false,
     "input": [
      "Ir = 0.11*E/Fy\n",
      "if Ir > Dt:\n",
      "    print \"Section is not slender\"\n",
      "else:\n",
      "    print \"Section is slender\""
     ],
     "language": "python",
     "metadata": {},
     "outputs": [
      {
       "output_type": "stream",
       "stream": "stdout",
       "text": [
        "Section is not slender\n"
       ]
      }
     ],
     "prompt_number": 165
    },
    {
     "cell_type": "markdown",
     "metadata": {},
     "source": [
      "Define Fe and ration of critical stress KL/r versus inelastic limit:"
     ]
    },
    {
     "cell_type": "code",
     "collapsed": false,
     "input": [
      "KLr = KL/rx\n",
      "el_limit = 4.71*sqrt(E/Fy)\n",
      "Fe = 3.14**2*E/(KLr**2)\n",
      "Fe"
     ],
     "language": "python",
     "metadata": {},
     "outputs": [
      {
       "html": [
        "46.0315301376 ksi"
       ],
       "latex": [
        "$46.0315301376 ksi$"
       ],
       "metadata": {},
       "output_type": "pyout",
       "prompt_number": 166,
       "text": [
        "<Quantity(46.0315301376, 'ksi')>"
       ]
      }
     ],
     "prompt_number": 166
    },
    {
     "cell_type": "markdown",
     "metadata": {},
     "source": [
      "Define critical force:"
     ]
    },
    {
     "cell_type": "code",
     "collapsed": false,
     "input": [
      "if el_limit >= KLr:\n",
      "    Fcr = (0.658**(Fy/Fe))*Fy\n",
      "else:\n",
      "    Fcr = 0.877 * Fe\n",
      "Fcr"
     ],
     "language": "python",
     "metadata": {},
     "outputs": [
      {
       "html": [
        "28.6678623572 ksi"
       ],
       "latex": [
        "$28.6678623572 ksi$"
       ],
       "metadata": {},
       "output_type": "pyout",
       "prompt_number": 167,
       "text": [
        "<Quantity(28.6678623572, 'ksi')>"
       ]
      }
     ],
     "prompt_number": 167
    },
    {
     "cell_type": "code",
     "collapsed": false,
     "input": [
      "Pn = Fcr * A\n",
      "limit_Pn = Pn / Oc\n",
      "if limit_Pn > Pa:\n",
      "    print \"Buckling Criterion OK\"\n",
      "else:\n",
      "    print \"Buckling criterion failed\""
     ],
     "language": "python",
     "metadata": {},
     "outputs": [
      {
       "output_type": "stream",
       "stream": "stdout",
       "text": [
        "Buckling Criterion OK\n"
       ]
      }
     ],
     "prompt_number": 168
    }
   ],
   "metadata": {}
  }
 ]
}