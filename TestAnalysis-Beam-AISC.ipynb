{
 "metadata": {
  "name": "",
  "signature": "sha256:18f496180ab7f58690c81854d9892a7f3add8c5bd2d0d12abbf2d88a2bc89a52"
 },
 "nbformat": 3,
 "nbformat_minor": 0,
 "worksheets": [
  {
   "cells": [
    {
     "cell_type": "code",
     "collapsed": false,
     "input": [
      "from pint import UnitRegistry\n",
      "from IPython.core.display import HTML\n",
      "un = UnitRegistry()"
     ],
     "language": "python",
     "metadata": {},
     "outputs": [],
     "prompt_number": 41
    },
    {
     "cell_type": "heading",
     "level": 1,
     "metadata": {},
     "source": [
      "AISC Column Analysis"
     ]
    },
    {
     "cell_type": "markdown",
     "metadata": {},
     "source": [
      "First, let's define input loads and geometry:"
     ]
    },
    {
     "cell_type": "code",
     "collapsed": false,
     "input": [
      "Pd = 3.9 * un.kips\n",
      "Pl = 8.7 * un.kips\n",
      "Wh = 0 * un.kips\n",
      "H = 7.75 * un.feet"
     ],
     "language": "python",
     "metadata": {},
     "outputs": [],
     "prompt_number": 31
    },
    {
     "cell_type": "markdown",
     "metadata": {},
     "source": [
      "Let's define material properties:"
     ]
    },
    {
     "cell_type": "code",
     "collapsed": false,
     "input": [
      "Fy = 42 * un.ksi\n",
      "Fx = 58 * un.ksi\n",
      "E = 29000 * un.ksi"
     ],
     "language": "python",
     "metadata": {},
     "outputs": [],
     "prompt_number": 32
    },
    {
     "cell_type": "markdown",
     "metadata": {},
     "source": [
      "Section properties are as follows:"
     ]
    },
    {
     "cell_type": "code",
     "collapsed": false,
     "input": [
      "A = 1.82 * un.inch**2\n",
      "rx = 1.18 * un.inch\n",
      "Dt = 20.1 * un.dimensionless"
     ],
     "language": "python",
     "metadata": {},
     "outputs": [],
     "prompt_number": 33
    },
    {
     "cell_type": "markdown",
     "metadata": {},
     "source": [
      "Code parameters are as follows:"
     ]
    },
    {
     "cell_type": "code",
     "collapsed": false,
     "input": [
      "Oc = 1.67\n",
      "BracingX = 0\n",
      "BracingY = 0"
     ],
     "language": "python",
     "metadata": {},
     "outputs": [],
     "prompt_number": 34
    },
    {
     "cell_type": "markdown",
     "metadata": {},
     "source": [
      "Required compressive strength:"
     ]
    },
    {
     "cell_type": "code",
     "collapsed": false,
     "input": [
      "Pa = Pd + Pl + Wh "
     ],
     "language": "python",
     "metadata": {},
     "outputs": [],
     "prompt_number": 35
    },
    {
     "cell_type": "markdown",
     "metadata": {},
     "source": [
      "Governing buckling direction:"
     ]
    },
    {
     "cell_type": "code",
     "collapsed": false,
     "input": [
      "Oc = 1.67\n",
      "BracingX = 0\n",
      "BracingY = 0"
     ],
     "language": "python",
     "metadata": {},
     "outputs": [],
     "prompt_number": 36
    },
    {
     "cell_type": "markdown",
     "metadata": {},
     "source": [
      "Code parameters are as follows:"
     ]
    },
    {
     "cell_type": "code",
     "collapsed": false,
     "input": [
      "Oc = 1.67\n",
      "BracingX = 0\n",
      "BracingY = 0"
     ],
     "language": "python",
     "metadata": {},
     "outputs": [],
     "prompt_number": 38
    }
   ],
   "metadata": {}
  }
 ]
}