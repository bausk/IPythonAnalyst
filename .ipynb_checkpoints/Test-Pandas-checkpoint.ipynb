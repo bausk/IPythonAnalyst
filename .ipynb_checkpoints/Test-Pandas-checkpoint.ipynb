{
 "cells": [
  {
   "cell_type": "code",
   "execution_count": 11,
   "metadata": {
    "collapsed": false
   },
   "outputs": [
    {
     "data": {
      "text/html": [
       "<div style=\"max-height:1000px;max-width:1500px;overflow:auto;\">\n",
       "<table border=\"1\" class=\"dataframe\">\n",
       "  <thead>\n",
       "    <tr style=\"text-align: right;\">\n",
       "      <th></th>\n",
       "      <th>A</th>\n",
       "      <th>B</th>\n",
       "      <th>C</th>\n",
       "      <th>D</th>\n",
       "    </tr>\n",
       "  </thead>\n",
       "  <tbody>\n",
       "    <tr>\n",
       "      <th>2013-01-01</th>\n",
       "      <td> 0.582738</td>\n",
       "      <td> 0.174981</td>\n",
       "      <td> 1.706648</td>\n",
       "      <td>-0.801196</td>\n",
       "    </tr>\n",
       "    <tr>\n",
       "      <th>2013-01-02</th>\n",
       "      <td>-0.200822</td>\n",
       "      <td> 1.645824</td>\n",
       "      <td>-0.023593</td>\n",
       "      <td> 1.604371</td>\n",
       "    </tr>\n",
       "    <tr>\n",
       "      <th>2013-01-03</th>\n",
       "      <td> 2.024759</td>\n",
       "      <td> 0.571770</td>\n",
       "      <td>-0.369314</td>\n",
       "      <td> 1.314403</td>\n",
       "    </tr>\n",
       "    <tr>\n",
       "      <th>2013-01-04</th>\n",
       "      <td> 0.405052</td>\n",
       "      <td> 0.125400</td>\n",
       "      <td>-0.070588</td>\n",
       "      <td>-1.005007</td>\n",
       "    </tr>\n",
       "    <tr>\n",
       "      <th>2013-01-05</th>\n",
       "      <td> 0.998932</td>\n",
       "      <td>-1.024268</td>\n",
       "      <td> 0.565638</td>\n",
       "      <td> 0.954765</td>\n",
       "    </tr>\n",
       "    <tr>\n",
       "      <th>2013-01-06</th>\n",
       "      <td> 0.608529</td>\n",
       "      <td>-0.313472</td>\n",
       "      <td> 0.362621</td>\n",
       "      <td>-1.788338</td>\n",
       "    </tr>\n",
       "  </tbody>\n",
       "</table>\n",
       "</div>"
      ],
      "text/plain": [
       "                   A         B         C         D\n",
       "2013-01-01  0.582738  0.174981  1.706648 -0.801196\n",
       "2013-01-02 -0.200822  1.645824 -0.023593  1.604371\n",
       "2013-01-03  2.024759  0.571770 -0.369314  1.314403\n",
       "2013-01-04  0.405052  0.125400 -0.070588 -1.005007\n",
       "2013-01-05  0.998932 -1.024268  0.565638  0.954765\n",
       "2013-01-06  0.608529 -0.313472  0.362621 -1.788338"
      ]
     },
     "execution_count": 11,
     "metadata": {},
     "output_type": "execute_result"
    }
   ],
   "source": [
    "import pandas as pd\n",
    "import numpy as np\n",
    "import matplotlib.pyplot as plt\n",
    "s = pd.Series([1,3,5,np.nan,6,8])\n",
    "dates = pd.date_range('20130101',periods=6)\n",
    "df = pd.DataFrame(np.random.randn(6,4),index=dates,columns=list('ABCD'))\n",
    "df"
   ]
  },
  {
   "cell_type": "code",
   "execution_count": null,
   "metadata": {
    "collapsed": false
   },
   "outputs": [],
   "source": []
  },
  {
   "cell_type": "markdown",
   "metadata": {},
   "source": [
    "Let's find the required moment of inertia under each of the forces."
   ]
  }
 ],
 "metadata": {
  "kernelspec": {
   "display_name": "Python 2",
   "language": "python",
   "name": "python2"
  },
  "language_info": {
   "codemirror_mode": {
    "name": "ipython",
    "version": 2
   },
   "file_extension": ".py",
   "mimetype": "text/x-python",
   "name": "python",
   "nbconvert_exporter": "python",
   "pygments_lexer": "ipython2",
   "version": "2.7.5"
  }
 },
 "nbformat": 4,
 "nbformat_minor": 0
}
