{
 "metadata": {
  "name": "",
  "signature": "sha256:7aff6f097efd84e20f80d5eaa5bbacef202c023d838e235f04b61d07e78535f8"
 },
 "nbformat": 3,
 "nbformat_minor": 0,
 "worksheets": [
  {
   "cells": [
    {
     "cell_type": "code",
     "collapsed": false,
     "input": [
      "import pint\n",
      "from pint import UnitRegistry\n",
      "un = UnitRegistry()\n",
      "\n",
      "W1=0.674 * un.kip / un.feet.to(un.inch)\n",
      "W1"
     ],
     "language": "python",
     "metadata": {},
     "outputs": [
      {
       "html": [
        "0.0561666666667 kip/inch"
       ],
       "latex": [
        "$0.0561666666667 \\frac{kip}{inch}$"
       ],
       "metadata": {},
       "output_type": "pyout",
       "prompt_number": 27,
       "text": [
        "<Quantity(0.0561666666667, 'kip / inch')>"
       ]
      }
     ],
     "prompt_number": 27
    }
   ],
   "metadata": {}
  }
 ]
}