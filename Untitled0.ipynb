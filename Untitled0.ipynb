{
 "worksheets": [
  {
   "cells": [
    {
     "cell_type": "code",
     "metadata": {},
     "outputs": [],
     "input": [
      "from pint import UnitRegistry\n",
      "from pint import unit\n",
      "from math import sqrt\n",
      "\n",
      "un = UnitRegistry()\n",
      "un.define('tonne_force = 1000 * kgf = tf')"
     ],
     "language": "python"
    },
    {
     "cell_type": "heading",
     "metadata": {},
     "level": 1,
     "source": [
      "Peliminary Footing Check"
     ]
    },
    {
     "cell_type": "markdown",
     "metadata": {},
     "source": [
      "Loads and soil strength:"
     ]
    },
    {
     "cell_type": "code",
     "metadata": {},
     "outputs": [],
     "input": [
      "lV = 80 * un.kip\n",
      "lH = 15 * un.kip\n",
      "lR = 200 * un.kPa.to(un.kip/un.foot**2) #Allowable bearing capacity #PRELIMINARY\n",
      "lR"
     ],
     "language": "python"
    },
    {
     "cell_type": "code",
     "metadata": {},
     "outputs": [
      {
       "latex": [
        "$36.2873896 tonne_force$"
       ],
       "prompt_number": 18,
       "text": [
        "<Quantity(36.2873896, 'tonne_force')>"
       ],
       "metadata": {}
      }
     ],
     "input": [
      "lV.to(un.tf)"
     ],
     "language": "python",
     "prompt_number": 18
    },
    {
     "cell_type": "code",
     "metadata": {},
     "outputs": [
      {
       "latex": [
        "$6.80388555 tonne_force$"
       ],
       "prompt_number": 19,
       "text": [
        "<Quantity(6.80388555, 'tonne_force')>"
       ],
       "metadata": {}
      }
     ],
     "input": [
      "lH.to(un.tf)"
     ],
     "language": "python",
     "prompt_number": 19
    },
    {
     "cell_type": "markdown",
     "metadata": {},
     "source": [
      "Environment parameters:"
     ]
    },
    {
     "cell_type": "code",
     "metadata": {},
     "outputs": [],
     "input": [
      "envFL = 45 * un.inch #Frost line"
     ],
     "language": "python",
     "prompt_number": 20
    },
    {
     "cell_type": "markdown",
     "metadata": {},
     "source": [
      "Footing parameters:"
     ]
    },
    {
     "cell_type": "code",
     "metadata": {},
     "outputs": [
      {
       "latex": [
        "$48.0 inch$"
       ],
       "prompt_number": 21,
       "text": [
        "<Quantity(48.0, 'inch')>"
       ],
       "metadata": {}
      }
     ],
     "input": [
      "fL = 6.5 * un.feet #Length\n",
      "fB = 5 * un.feet #Width\n",
      "fArea = fL * fB #Area\n",
      "fPH = 4 * un.feet; fPH.to(un.inch) #Column pier height from base to footing bottom"
     ],
     "language": "python",
     "prompt_number": 21
    },
    {
     "cell_type": "markdown",
     "metadata": {},
     "source": [
      "Approximate pressure at footing:"
     ]
    },
    {
     "cell_type": "code",
     "metadata": {},
     "outputs": [
      {
       "latex": [
        "$4.16568047337 \\frac{kip}{foot^{2}}$"
       ],
       "prompt_number": 22,
       "text": [
        "<Quantity(4.16568047337, 'kip / foot ** 2')>"
       ],
       "metadata": {}
      }
     ],
     "input": [
      "W = fL ** 2 * fB / 6 #section modulus\n",
      "PrMax = lV / fArea + (lH * fPH) / W; PrMax.to(un.kip/un.foot**2)"
     ],
     "language": "python",
     "prompt_number": 22
    },
    {
     "cell_type": "code",
     "metadata": {},
     "outputs": [
      {
       "latex": [
        "$0.757396449704 \\frac{kip}{foot^{2}}$"
       ],
       "prompt_number": 23,
       "text": [
        "<Quantity(0.757396449704, 'kip / foot ** 2')>"
       ],
       "metadata": {}
      }
     ],
     "input": [
      "PrMin = lV / fArea - (lH * fPH) / W; PrMin.to(un.kip/un.foot**2)"
     ],
     "language": "python",
     "prompt_number": 23
    },
    {
     "cell_type": "code",
     "metadata": {},
     "outputs": [
      {
       "latex": [
        "$355.857729221 kilonewton$"
       ],
       "prompt_number": 24,
       "text": [
        "<Quantity(355.857729221, 'kilonewton')>"
       ],
       "metadata": {}
      }
     ],
     "input": [
      "lV.to(un.kN)"
     ],
     "language": "python",
     "prompt_number": 24
    }
   ]
  }
 ],
 "cells": [],
 "metadata": {
  "name": "",
  "signature": "sha256:f178a5277c88d7f9975cb877b72638e85f94cbbf3d6991f62d2857aff3755a9d"
 },
 "nbformat": 3,
 "nbformat_minor": 0
}